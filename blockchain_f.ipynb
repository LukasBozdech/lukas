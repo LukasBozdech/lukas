{
 "cells": [
  {
   "cell_type": "code",
   "execution_count": 1,
   "metadata": {},
   "outputs": [],
   "source": [
    "from datetime import datetime\n",
    "import hashlib"
   ]
  },
  {
   "cell_type": "code",
   "execution_count": 2,
   "metadata": {},
   "outputs": [],
   "source": [
    "class Block:\n",
    "    blockNo = 0\n",
    "    data = None\n",
    "    next = None\n",
    "    hash = None\n",
    "    nonce = 0\n",
    "    previous_hash = 0x0\n",
    "    timestamp = datetime.now()\n",
    "\n",
    "    def __init__(self, data):\n",
    "        self.data = data\n",
    "\n",
    "    def hash(self):\n",
    "        h = hashlib.sha256()\n",
    "        h.update(\n",
    "        str(self.nonce).encode('utf-8') +\n",
    "        str(self.data).encode('utf-8') +\n",
    "        str(self.previous_hash).encode('utf-8') +\n",
    "        str(self.timestamp).encode('utf-8') +\n",
    "        str(self.blockNo).encode('utf-8')\n",
    "        )\n",
    "        return h.hexdigest()\n",
    "\n",
    "    def __str__(self):\n",
    "        return \"Block Hash:\\t \" + str(self.hash()) + \"\\nPrevious_hash:\\t \" + str(self.previous_hash) + \"\\nBlockNo:\\t \" + str(self.blockNo) + \"\\nBlock Data:\\t \" + str(self.data) + \"\\nNonce:\\t\\t \" + str(self.nonce) + \"\\nTime:\\t\\t \" + str(self.timestamp) +\"\\n--------------\"\n"
   ]
  },
  {
   "cell_type": "code",
   "execution_count": 3,
   "metadata": {},
   "outputs": [],
   "source": [
    "class Blockchain:\n",
    "\n",
    "    difficulty = 15\n",
    "    maxNonce = 2**32\n",
    "    target = 2 ** (256-difficulty)\n",
    "\n",
    "    block = Block(\"Genesis\")\n",
    "    dummy = head = block\n",
    "    history = [block]\n",
    "\n",
    "    def add(self, block):\n",
    "        block.timestamp = datetime.now()\n",
    "        block.previous_hash = self.block.hash()\n",
    "        block.blockNo = self.block.blockNo + 1\n",
    "        self.history.append(block)\n",
    "        self.block.next = block\n",
    "        self.block = self.block.next\n",
    "\n",
    "    def add_to_blockchain(self, block):\n",
    "        for n in range(self.maxNonce):\n",
    "            if int(block.hash(), 16) <= self.target:\n",
    "                self.add(block)\n",
    "                print(block)\n",
    "                break\n",
    "            else:\n",
    "                block.nonce += 1\n",
    "    \n",
    "    def read_last(self):\n",
    "        print(self.block)\n",
    "        \n",
    "    def read_all(self):\n",
    "        for i in range(0, len(self.history)):\n",
    "            print(self.history[i])\n",
    "        \n",
    "        \n",
    "        \n"
   ]
  },
  {
   "cell_type": "code",
   "execution_count": 4,
   "metadata": {},
   "outputs": [],
   "source": [
    "blockchain = Blockchain()"
   ]
  },
  {
   "cell_type": "code",
   "execution_count": 5,
   "metadata": {},
   "outputs": [
    {
     "name": "stdout",
     "output_type": "stream",
     "text": [
      "Block Hash:\t d49d3fa28e84e5117c4f5e2ab4d3f4b560d25dc995962908423a4048143f9171\n",
      "Previous_hash:\t e66a69039c3f1e9f60bf54c21452ea827fb9a9c9a75b39f8edf5da075391036f\n",
      "BlockNo:\t 1\n",
      "Block Data:\t První blok\n",
      "Nonce:\t\t 26391\n",
      "Time:\t\t 2021-12-15 09:14:19.286806\n",
      "--------------\n"
     ]
    }
   ],
   "source": [
    "blockchain.add_to_blockchain(Block(\"První blok\"))"
   ]
  },
  {
   "cell_type": "code",
   "execution_count": 6,
   "metadata": {},
   "outputs": [
    {
     "name": "stdout",
     "output_type": "stream",
     "text": [
      "Block Hash:\t 683eee3fa56c7e2c55949462cc57a22d9c5a5a384159b238038d3d36996ff774\n",
      "Previous_hash:\t d49d3fa28e84e5117c4f5e2ab4d3f4b560d25dc995962908423a4048143f9171\n",
      "BlockNo:\t 2\n",
      "Block Data:\t Druhý blok\n",
      "Nonce:\t\t 60064\n",
      "Time:\t\t 2021-12-15 09:14:19.834933\n",
      "--------------\n"
     ]
    }
   ],
   "source": [
    "blockchain.add_to_blockchain(Block(\"Druhý blok\"))"
   ]
  },
  {
   "cell_type": "code",
   "execution_count": 7,
   "metadata": {},
   "outputs": [
    {
     "name": "stdout",
     "output_type": "stream",
     "text": [
      "Block Hash:\t 074c71753a157de7b295615e1326fff293bbf3761606bfbfa72dcafd4e063bea\n",
      "Previous_hash:\t 683eee3fa56c7e2c55949462cc57a22d9c5a5a384159b238038d3d36996ff774\n",
      "BlockNo:\t 3\n",
      "Block Data:\t Třetí block\n",
      "Nonce:\t\t 53373\n",
      "Time:\t\t 2021-12-15 09:14:20.303481\n",
      "--------------\n"
     ]
    }
   ],
   "source": [
    "blockchain.add_to_blockchain(Block(\"Třetí block\"))"
   ]
  },
  {
   "cell_type": "code",
   "execution_count": 8,
   "metadata": {},
   "outputs": [
    {
     "name": "stdout",
     "output_type": "stream",
     "text": [
      "Block Hash:\t 03df49be9deb5f5825c08994a12c833ca13a5a85e274120a07f09442a52b2324\n",
      "Previous_hash:\t 074c71753a157de7b295615e1326fff293bbf3761606bfbfa72dcafd4e063bea\n",
      "BlockNo:\t 4\n",
      "Block Data:\t Čtvrtý block\n",
      "Nonce:\t\t 11315\n",
      "Time:\t\t 2021-12-15 09:14:20.424764\n",
      "--------------\n"
     ]
    }
   ],
   "source": [
    "blockchain.add_to_blockchain(Block(\"Čtvrtý block\"))"
   ]
  },
  {
   "cell_type": "code",
   "execution_count": 9,
   "metadata": {},
   "outputs": [
    {
     "name": "stdout",
     "output_type": "stream",
     "text": [
      "Block Hash:\t b5779a86287d98cbcd70f46fb20c6a3ef2290d45ae377bb19795e1a9f8403dcf\n",
      "Previous_hash:\t 03df49be9deb5f5825c08994a12c833ca13a5a85e274120a07f09442a52b2324\n",
      "BlockNo:\t 5\n",
      "Block Data:\t Pátý block\n",
      "Nonce:\t\t 54757\n",
      "Time:\t\t 2021-12-15 09:14:21.041187\n",
      "--------------\n"
     ]
    }
   ],
   "source": [
    "blockchain.add_to_blockchain(Block(\"Pátý block\"))"
   ]
  },
  {
   "cell_type": "code",
   "execution_count": 10,
   "metadata": {},
   "outputs": [
    {
     "name": "stdout",
     "output_type": "stream",
     "text": [
      "Block Hash:\t b5779a86287d98cbcd70f46fb20c6a3ef2290d45ae377bb19795e1a9f8403dcf\n",
      "Previous_hash:\t 03df49be9deb5f5825c08994a12c833ca13a5a85e274120a07f09442a52b2324\n",
      "BlockNo:\t 5\n",
      "Block Data:\t Pátý block\n",
      "Nonce:\t\t 54757\n",
      "Time:\t\t 2021-12-15 09:14:21.041187\n",
      "--------------\n"
     ]
    }
   ],
   "source": [
    "blockchain.read_last()"
   ]
  },
  {
   "cell_type": "code",
   "execution_count": 11,
   "metadata": {},
   "outputs": [
    {
     "name": "stdout",
     "output_type": "stream",
     "text": [
      "Block Hash:\t e66a69039c3f1e9f60bf54c21452ea827fb9a9c9a75b39f8edf5da075391036f\n",
      "Previous_hash:\t 0\n",
      "BlockNo:\t 0\n",
      "Block Data:\t Genesis\n",
      "Nonce:\t\t 0\n",
      "Time:\t\t 2021-12-15 09:14:18.674492\n",
      "--------------\n",
      "Block Hash:\t d49d3fa28e84e5117c4f5e2ab4d3f4b560d25dc995962908423a4048143f9171\n",
      "Previous_hash:\t e66a69039c3f1e9f60bf54c21452ea827fb9a9c9a75b39f8edf5da075391036f\n",
      "BlockNo:\t 1\n",
      "Block Data:\t První blok\n",
      "Nonce:\t\t 26391\n",
      "Time:\t\t 2021-12-15 09:14:19.286806\n",
      "--------------\n",
      "Block Hash:\t 683eee3fa56c7e2c55949462cc57a22d9c5a5a384159b238038d3d36996ff774\n",
      "Previous_hash:\t d49d3fa28e84e5117c4f5e2ab4d3f4b560d25dc995962908423a4048143f9171\n",
      "BlockNo:\t 2\n",
      "Block Data:\t Druhý blok\n",
      "Nonce:\t\t 60064\n",
      "Time:\t\t 2021-12-15 09:14:19.834933\n",
      "--------------\n",
      "Block Hash:\t 074c71753a157de7b295615e1326fff293bbf3761606bfbfa72dcafd4e063bea\n",
      "Previous_hash:\t 683eee3fa56c7e2c55949462cc57a22d9c5a5a384159b238038d3d36996ff774\n",
      "BlockNo:\t 3\n",
      "Block Data:\t Třetí block\n",
      "Nonce:\t\t 53373\n",
      "Time:\t\t 2021-12-15 09:14:20.303481\n",
      "--------------\n",
      "Block Hash:\t 03df49be9deb5f5825c08994a12c833ca13a5a85e274120a07f09442a52b2324\n",
      "Previous_hash:\t 074c71753a157de7b295615e1326fff293bbf3761606bfbfa72dcafd4e063bea\n",
      "BlockNo:\t 4\n",
      "Block Data:\t Čtvrtý block\n",
      "Nonce:\t\t 11315\n",
      "Time:\t\t 2021-12-15 09:14:20.424764\n",
      "--------------\n",
      "Block Hash:\t b5779a86287d98cbcd70f46fb20c6a3ef2290d45ae377bb19795e1a9f8403dcf\n",
      "Previous_hash:\t 03df49be9deb5f5825c08994a12c833ca13a5a85e274120a07f09442a52b2324\n",
      "BlockNo:\t 5\n",
      "Block Data:\t Pátý block\n",
      "Nonce:\t\t 54757\n",
      "Time:\t\t 2021-12-15 09:14:21.041187\n",
      "--------------\n"
     ]
    }
   ],
   "source": [
    "blockchain.read_all()"
   ]
  },
  {
   "cell_type": "code",
   "execution_count": null,
   "metadata": {},
   "outputs": [],
   "source": []
  },
  {
   "cell_type": "code",
   "execution_count": null,
   "metadata": {},
   "outputs": [],
   "source": []
  },
  {
   "cell_type": "code",
   "execution_count": null,
   "metadata": {},
   "outputs": [],
   "source": []
  },
  {
   "cell_type": "code",
   "execution_count": null,
   "metadata": {},
   "outputs": [],
   "source": []
  },
  {
   "cell_type": "code",
   "execution_count": null,
   "metadata": {},
   "outputs": [],
   "source": []
  }
 ],
 "metadata": {
  "kernelspec": {
   "display_name": "Python 3",
   "language": "python",
   "name": "python3"
  },
  "language_info": {
   "codemirror_mode": {
    "name": "ipython",
    "version": 3
   },
   "file_extension": ".py",
   "mimetype": "text/x-python",
   "name": "python",
   "nbconvert_exporter": "python",
   "pygments_lexer": "ipython3",
   "version": "3.7.6"
  }
 },
 "nbformat": 4,
 "nbformat_minor": 4
}
