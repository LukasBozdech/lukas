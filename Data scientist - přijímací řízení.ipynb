{
 "cells": [
  {
   "cell_type": "markdown",
   "metadata": {},
   "source": [
    "# Zadání -\n",
    "### Vytvořit model, který odpovídá průběhu přijímacích řízení v roce 2022 na pozice v data science a podobných oborech aneb jak kreativně využít vlastní frustraci."
   ]
  },
  {
   "cell_type": "code",
   "execution_count": 1,
   "metadata": {},
   "outputs": [],
   "source": [
    "import random\n",
    "benefity = [\"hodinky s vodotryskem\", \"stálý přísun kiwi nakrájeného na proužky nebo čtverečky (dle Vašeho výběru)\",\n",
    "           \"výuka svahilštiny s rodilým mluvčím\", \"zavazování tkaniček u bot v libovolnou denní dobu\", \n",
    "           \"odvoz a ekologická likvidace Vašich dřívek od nanuků\", \"neomezená zásoba ohýbacích brček\", \n",
    "           \"bonus 70 % za práci v lichý den v týdnu\", \"bonus 50 % za práci v sudý den v měsíci\", \n",
    "           \"bonus 30 % za práci v hodinu začínající na 1\", \"Fairtrade párátka neustále k dispozici\"\n",
    "            ]"
   ]
  },
  {
   "cell_type": "code",
   "execution_count": 2,
   "metadata": {},
   "outputs": [],
   "source": [
    "class Job():\n",
    "    def __init__(self, name):\n",
    "        \"\"\"\n",
    "        name - Název pozice        \n",
    "        \"\"\"\n",
    "        self.name = name\n",
    "        \n",
    "    def prijimaci_rizeni(self,  Applicant):\n",
    "        \"\"\"\n",
    "        Tato fuknce instruuje personalisty, jak postupovat v přijímacím řízení. Před pohovorem vyhledá, zda se první slovo\n",
    "        v názvu pozice vyskytuje v sebepopisu uchazeče. Pokud ano, tak je potřeba zdůraznit, že uchazeč je přesně tím odborníkem,\n",
    "        kterého firma hledá. Pokud nikoliv, tak se uchazeči sdělí, že by se na danou pozici určitě hodil.\n",
    "        Druhá část této funkce rozhoduje o výsledku přijímacího řízení. Důsledně ignoruje všechny parametry kromě praxe. \n",
    "        Má-li uchazeč praxi větší než nula, tak je potřeba mu nabídnout vysokou mzdu a spoustu benefitů. Pokud praxi nemá,\n",
    "        tak bez ohledu na cokoli jiného je správné mu alespoň poděkovat za zájem a čas, který pohovoru věnoval, a poslat ho do\n",
    "        patřičných mezí.\n",
    "        \"\"\"      \n",
    "        if self.name.lower().split()[0] in Applicant.popis.lower().split():\n",
    "            print(\"Instrukce pro personalistu před pohovorem: Jste přesně ten odborník, kterého hledáme.\")\n",
    "        else:\n",
    "            print(\"Instrukce pro personalistu před pohovorem: Možná, že to ani sám nevíte, ale my jsme si jisti, že byste se na tuto pozici hodil.\")\n",
    "        \n",
    "        if Applicant.praxe > 0:\n",
    "            sample = random.sample(benefity,3)\n",
    "            print(\"Instrukce pro personalistu po pohovoru: Prosím, pojďte k nám - nabízíme 100K/měsíc a spoustu benefitů. Mezi nejpopulárnější patří {}, {} nebo {}.\".format(sample[0], sample[1], sample[2]))\n",
    "        else:\n",
    "            print(\"Instrukce pro personalistu po pohovoru: Děkujeme za Váš zájem a čas, který jste nám věnoval...\")\n",
    "        \n",
    "            "
   ]
  },
  {
   "cell_type": "code",
   "execution_count": 3,
   "metadata": {},
   "outputs": [],
   "source": [
    "class Applicant():\n",
    "    def __init__(self, popis, praxe, vzdelani, iq, skills, vsechno_ostatni):\n",
    "        \"\"\"\n",
    "        Uchazeč - jeho sebepopis, praxe v oboru. A pak ještě sposusta dalších atributů, které je nezbytně nutné vyplnit,\n",
    "        ovšem do rozhodovacího procesu vůbec nevstupují.\n",
    "        \"\"\"\n",
    "        self.popis = popis\n",
    "        self.praxe = praxe"
   ]
  },
  {
   "cell_type": "code",
   "execution_count": 4,
   "metadata": {},
   "outputs": [],
   "source": [
    "Job1 = Job(\"Data Scientist\")"
   ]
  },
  {
   "cell_type": "code",
   "execution_count": 5,
   "metadata": {},
   "outputs": [],
   "source": [
    "Applicant1 = Applicant(\"Data Scientist\", praxe = 0, vzdelani=\"PhD v oboru\", iq = 200, skills=\"všechno, co potřebujete\",\n",
    "                      vsechno_ostatni=\"Milion dalších věci\")\n",
    "Applicant2 = Applicant(\"Data mi nic neříkají\", praxe = 0.1, vzdelani=\"vysoká škola života\", iq = 62, skills=\"dvě ruce a nohy\",\n",
    "                      vsechno_ostatni=\"Tomio na Hrad\")\n",
    "Applicant3 = Applicant(\"Živočichář\", praxe = 0.0001, vzdelani=\"mám\", iq = 100, skills=\"Znám spoustu krav.\",\n",
    "                      vsechno_ostatni=\"Skvěle šermuji.\")"
   ]
  },
  {
   "cell_type": "code",
   "execution_count": 6,
   "metadata": {},
   "outputs": [
    {
     "name": "stdout",
     "output_type": "stream",
     "text": [
      "Instrukce pro personalistu před pohovorem: Jste přesně ten odborník, kterého hledáme.\n",
      "Instrukce pro personalistu po pohovoru: Děkujeme za Váš zájem a čas, který jste nám věnoval...\n"
     ]
    }
   ],
   "source": [
    "Job1.prijimaci_rizeni(Applicant1)"
   ]
  },
  {
   "cell_type": "code",
   "execution_count": 7,
   "metadata": {},
   "outputs": [
    {
     "name": "stdout",
     "output_type": "stream",
     "text": [
      "Instrukce pro personalistu před pohovorem: Jste přesně ten odborník, kterého hledáme.\n",
      "Instrukce pro personalistu po pohovoru: Prosím, pojďte k nám - nabízíme 100K/měsíc a spoustu benefitů. Mezi nejpopulárnější patří zavazování tkaniček u bot v libovolnou denní dobu, bonus 50 % za práci v sudý den v měsíci nebo bonus 70 % za práci v lichý den v týdnu.\n"
     ]
    }
   ],
   "source": [
    "Job1.prijimaci_rizeni(Applicant2)"
   ]
  },
  {
   "cell_type": "code",
   "execution_count": 8,
   "metadata": {},
   "outputs": [
    {
     "name": "stdout",
     "output_type": "stream",
     "text": [
      "Instrukce pro personalistu před pohovorem: Možná, že to ani sám nevíte, ale my jsme si jisti, že byste se na tuto pozici hodil.\n",
      "Instrukce pro personalistu po pohovoru: Prosím, pojďte k nám - nabízíme 100K/měsíc a spoustu benefitů. Mezi nejpopulárnější patří bonus 50 % za práci v sudý den v měsíci, bonus 70 % za práci v lichý den v týdnu nebo výuka svahilštiny s rodilým mluvčím.\n"
     ]
    }
   ],
   "source": [
    "Job1.prijimaci_rizeni(Applicant3)"
   ]
  },
  {
   "cell_type": "code",
   "execution_count": null,
   "metadata": {},
   "outputs": [],
   "source": []
  },
  {
   "cell_type": "code",
   "execution_count": null,
   "metadata": {},
   "outputs": [],
   "source": []
  }
 ],
 "metadata": {
  "kernelspec": {
   "display_name": "Python 3",
   "language": "python",
   "name": "python3"
  },
  "language_info": {
   "codemirror_mode": {
    "name": "ipython",
    "version": 3
   },
   "file_extension": ".py",
   "mimetype": "text/x-python",
   "name": "python",
   "nbconvert_exporter": "python",
   "pygments_lexer": "ipython3",
   "version": "3.7.6"
  }
 },
 "nbformat": 4,
 "nbformat_minor": 4
}
